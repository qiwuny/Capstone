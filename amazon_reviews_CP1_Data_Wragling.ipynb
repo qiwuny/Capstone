{
 "cells": [
  {
   "cell_type": "markdown",
   "metadata": {
    "collapsed": true
   },
   "source": [
    "# CP1 Data Wragling"
   ]
  },
  {
   "cell_type": "code",
   "execution_count": 18,
   "metadata": {
    "collapsed": true
   },
   "outputs": [],
   "source": [
    "import pandas as pd\n",
    "import matplotlib.pyplot as plt\n",
    "import numpy as np\n",
    "from datetime import date"
   ]
  },
  {
   "cell_type": "code",
   "execution_count": 19,
   "metadata": {
    "collapsed": true
   },
   "outputs": [],
   "source": [
    "df=pd.read_json ('Amazon_Instant_Video_5.json',lines=True)"
   ]
  },
  {
   "cell_type": "code",
   "execution_count": 20,
   "metadata": {},
   "outputs": [
    {
     "name": "stdout",
     "output_type": "stream",
     "text": [
      "<class 'pandas.core.frame.DataFrame'>\n",
      "Int64Index: 37126 entries, 0 to 37125\n",
      "Data columns (total 9 columns):\n",
      "asin              37126 non-null object\n",
      "helpful           37126 non-null object\n",
      "overall           37126 non-null int64\n",
      "reviewText        37126 non-null object\n",
      "reviewTime        37126 non-null object\n",
      "reviewerID        37126 non-null object\n",
      "reviewerName      36797 non-null object\n",
      "summary           37126 non-null object\n",
      "unixReviewTime    37126 non-null int64\n",
      "dtypes: int64(2), object(7)\n",
      "memory usage: 2.8+ MB\n"
     ]
    }
   ],
   "source": [
    "df.info()"
   ]
  },
  {
   "cell_type": "code",
   "execution_count": 21,
   "metadata": {},
   "outputs": [
    {
     "name": "stdout",
     "output_type": "stream",
     "text": [
      "<class 'pandas.core.frame.DataFrame'>\n",
      "Int64Index: 37126 entries, 0 to 37125\n",
      "Data columns (total 9 columns):\n",
      "asin              37126 non-null object\n",
      "helpful           37126 non-null object\n",
      "overall           37126 non-null int64\n",
      "reviewText        37126 non-null object\n",
      "reviewTime        37126 non-null object\n",
      "reviewerID        37126 non-null object\n",
      "reviewerName      37126 non-null object\n",
      "summary           37126 non-null object\n",
      "unixReviewTime    37126 non-null int64\n",
      "dtypes: int64(2), object(7)\n",
      "memory usage: 2.8+ MB\n"
     ]
    }
   ],
   "source": [
    "df1=df.fillna('')\n",
    "df1.info()"
   ]
  },
  {
   "cell_type": "code",
   "execution_count": 22,
   "metadata": {},
   "outputs": [
    {
     "data": {
      "text/html": [
       "<div>\n",
       "<style>\n",
       "    .dataframe thead tr:only-child th {\n",
       "        text-align: right;\n",
       "    }\n",
       "\n",
       "    .dataframe thead th {\n",
       "        text-align: left;\n",
       "    }\n",
       "\n",
       "    .dataframe tbody tr th {\n",
       "        vertical-align: top;\n",
       "    }\n",
       "</style>\n",
       "<table border=\"1\" class=\"dataframe\">\n",
       "  <thead>\n",
       "    <tr style=\"text-align: right;\">\n",
       "      <th></th>\n",
       "      <th>asin</th>\n",
       "      <th>helpful</th>\n",
       "      <th>overall</th>\n",
       "      <th>reviewText</th>\n",
       "      <th>reviewTime</th>\n",
       "      <th>reviewerID</th>\n",
       "      <th>reviewerName</th>\n",
       "      <th>summary</th>\n",
       "      <th>unixReviewTime</th>\n",
       "    </tr>\n",
       "  </thead>\n",
       "  <tbody>\n",
       "    <tr>\n",
       "      <th>0</th>\n",
       "      <td>B000H00VBQ</td>\n",
       "      <td>[0, 0]</td>\n",
       "      <td>2</td>\n",
       "      <td>I had big expectations because I love English ...</td>\n",
       "      <td>05 3, 2014</td>\n",
       "      <td>A11N155CW1UV02</td>\n",
       "      <td>AdrianaM</td>\n",
       "      <td>A little bit boring for me</td>\n",
       "      <td>1399075200</td>\n",
       "    </tr>\n",
       "    <tr>\n",
       "      <th>1</th>\n",
       "      <td>B000H00VBQ</td>\n",
       "      <td>[0, 0]</td>\n",
       "      <td>5</td>\n",
       "      <td>I highly recommend this series. It is a must f...</td>\n",
       "      <td>09 3, 2012</td>\n",
       "      <td>A3BC8O2KCL29V2</td>\n",
       "      <td>Carol T</td>\n",
       "      <td>Excellent Grown Up TV</td>\n",
       "      <td>1346630400</td>\n",
       "    </tr>\n",
       "    <tr>\n",
       "      <th>2</th>\n",
       "      <td>B000H00VBQ</td>\n",
       "      <td>[0, 1]</td>\n",
       "      <td>1</td>\n",
       "      <td>This one is a real snoozer. Don't believe anyt...</td>\n",
       "      <td>10 16, 2013</td>\n",
       "      <td>A60D5HQFOTSOM</td>\n",
       "      <td>Daniel Cooper \"dancoopermedia\"</td>\n",
       "      <td>Way too boring for me</td>\n",
       "      <td>1381881600</td>\n",
       "    </tr>\n",
       "    <tr>\n",
       "      <th>3</th>\n",
       "      <td>B000H00VBQ</td>\n",
       "      <td>[0, 0]</td>\n",
       "      <td>4</td>\n",
       "      <td>Mysteries are interesting.  The tension betwee...</td>\n",
       "      <td>10 30, 2013</td>\n",
       "      <td>A1RJPIGRSNX4PW</td>\n",
       "      <td>J. Kaplan \"JJ\"</td>\n",
       "      <td>Robson Green is mesmerizing</td>\n",
       "      <td>1383091200</td>\n",
       "    </tr>\n",
       "    <tr>\n",
       "      <th>4</th>\n",
       "      <td>B000H00VBQ</td>\n",
       "      <td>[1, 1]</td>\n",
       "      <td>5</td>\n",
       "      <td>This show always is excellent, as far as briti...</td>\n",
       "      <td>02 11, 2009</td>\n",
       "      <td>A16XRPF40679KG</td>\n",
       "      <td>Michael Dobey</td>\n",
       "      <td>Robson green and great writing</td>\n",
       "      <td>1234310400</td>\n",
       "    </tr>\n",
       "    <tr>\n",
       "      <th>5</th>\n",
       "      <td>B000H00VBQ</td>\n",
       "      <td>[12, 12]</td>\n",
       "      <td>5</td>\n",
       "      <td>I discovered this series quite by accident. Ha...</td>\n",
       "      <td>10 11, 2011</td>\n",
       "      <td>A1POFVVXUZR3IQ</td>\n",
       "      <td>Z Hayes</td>\n",
       "      <td>I purchased the series via streaming and loved...</td>\n",
       "      <td>1318291200</td>\n",
       "    </tr>\n",
       "    <tr>\n",
       "      <th>6</th>\n",
       "      <td>B000H0X79O</td>\n",
       "      <td>[0, 0]</td>\n",
       "      <td>3</td>\n",
       "      <td>It beats watching a blank screen. However, I j...</td>\n",
       "      <td>10 15, 2013</td>\n",
       "      <td>A1PG2VV4W1WRPL</td>\n",
       "      <td>Jimmy C. Saunders \"Papa Smurf\"</td>\n",
       "      <td>It takes up your time.</td>\n",
       "      <td>1381795200</td>\n",
       "    </tr>\n",
       "    <tr>\n",
       "      <th>7</th>\n",
       "      <td>B000H0X79O</td>\n",
       "      <td>[0, 0]</td>\n",
       "      <td>3</td>\n",
       "      <td>There are many episodes in this series, so I p...</td>\n",
       "      <td>12 29, 2013</td>\n",
       "      <td>ATASGS8HZHGIB</td>\n",
       "      <td>JohnnyC</td>\n",
       "      <td>A reasonable way to kill a few minutes</td>\n",
       "      <td>1388275200</td>\n",
       "    </tr>\n",
       "    <tr>\n",
       "      <th>8</th>\n",
       "      <td>B000H0X79O</td>\n",
       "      <td>[0, 0]</td>\n",
       "      <td>5</td>\n",
       "      <td>This is the best of the best comedy Stand-up. ...</td>\n",
       "      <td>02 26, 2014</td>\n",
       "      <td>A3RXD7Z44T9DHW</td>\n",
       "      <td>Kansas</td>\n",
       "      <td>kansas001</td>\n",
       "      <td>1393372800</td>\n",
       "    </tr>\n",
       "    <tr>\n",
       "      <th>9</th>\n",
       "      <td>B000H0X79O</td>\n",
       "      <td>[0, 0]</td>\n",
       "      <td>3</td>\n",
       "      <td>Not bad.  Didn't know any of the comedians but...</td>\n",
       "      <td>04 2, 2014</td>\n",
       "      <td>AUX8EUBNTHIIU</td>\n",
       "      <td>Louis V. Borsellino</td>\n",
       "      <td>Entertaining Comedy</td>\n",
       "      <td>1396396800</td>\n",
       "    </tr>\n",
       "  </tbody>\n",
       "</table>\n",
       "</div>"
      ],
      "text/plain": [
       "         asin   helpful  overall  \\\n",
       "0  B000H00VBQ    [0, 0]        2   \n",
       "1  B000H00VBQ    [0, 0]        5   \n",
       "2  B000H00VBQ    [0, 1]        1   \n",
       "3  B000H00VBQ    [0, 0]        4   \n",
       "4  B000H00VBQ    [1, 1]        5   \n",
       "5  B000H00VBQ  [12, 12]        5   \n",
       "6  B000H0X79O    [0, 0]        3   \n",
       "7  B000H0X79O    [0, 0]        3   \n",
       "8  B000H0X79O    [0, 0]        5   \n",
       "9  B000H0X79O    [0, 0]        3   \n",
       "\n",
       "                                          reviewText   reviewTime  \\\n",
       "0  I had big expectations because I love English ...   05 3, 2014   \n",
       "1  I highly recommend this series. It is a must f...   09 3, 2012   \n",
       "2  This one is a real snoozer. Don't believe anyt...  10 16, 2013   \n",
       "3  Mysteries are interesting.  The tension betwee...  10 30, 2013   \n",
       "4  This show always is excellent, as far as briti...  02 11, 2009   \n",
       "5  I discovered this series quite by accident. Ha...  10 11, 2011   \n",
       "6  It beats watching a blank screen. However, I j...  10 15, 2013   \n",
       "7  There are many episodes in this series, so I p...  12 29, 2013   \n",
       "8  This is the best of the best comedy Stand-up. ...  02 26, 2014   \n",
       "9  Not bad.  Didn't know any of the comedians but...   04 2, 2014   \n",
       "\n",
       "       reviewerID                    reviewerName  \\\n",
       "0  A11N155CW1UV02                        AdrianaM   \n",
       "1  A3BC8O2KCL29V2                         Carol T   \n",
       "2   A60D5HQFOTSOM  Daniel Cooper \"dancoopermedia\"   \n",
       "3  A1RJPIGRSNX4PW                  J. Kaplan \"JJ\"   \n",
       "4  A16XRPF40679KG                   Michael Dobey   \n",
       "5  A1POFVVXUZR3IQ                         Z Hayes   \n",
       "6  A1PG2VV4W1WRPL  Jimmy C. Saunders \"Papa Smurf\"   \n",
       "7   ATASGS8HZHGIB                         JohnnyC   \n",
       "8  A3RXD7Z44T9DHW                          Kansas   \n",
       "9   AUX8EUBNTHIIU             Louis V. Borsellino   \n",
       "\n",
       "                                             summary  unixReviewTime  \n",
       "0                         A little bit boring for me      1399075200  \n",
       "1                              Excellent Grown Up TV      1346630400  \n",
       "2                              Way too boring for me      1381881600  \n",
       "3                        Robson Green is mesmerizing      1383091200  \n",
       "4                     Robson green and great writing      1234310400  \n",
       "5  I purchased the series via streaming and loved...      1318291200  \n",
       "6                             It takes up your time.      1381795200  \n",
       "7             A reasonable way to kill a few minutes      1388275200  \n",
       "8                                          kansas001      1393372800  \n",
       "9                                Entertaining Comedy      1396396800  "
      ]
     },
     "execution_count": 22,
     "metadata": {},
     "output_type": "execute_result"
    }
   ],
   "source": [
    "df1.head(10)"
   ]
  },
  {
   "cell_type": "code",
   "execution_count": 23,
   "metadata": {},
   "outputs": [
    {
     "data": {
      "text/plain": [
       "Index(['asin', 'helpful', 'overall', 'reviewText', 'reviewTime', 'reviewerID',\n",
       "       'reviewerName', 'summary', 'unixReviewTime'],\n",
       "      dtype='object')"
      ]
     },
     "execution_count": 23,
     "metadata": {},
     "output_type": "execute_result"
    }
   ],
   "source": [
    "df1.columns"
   ]
  },
  {
   "cell_type": "code",
   "execution_count": 24,
   "metadata": {},
   "outputs": [
    {
     "name": "stdout",
     "output_type": "stream",
     "text": [
      "Number of reviews: 37126\n",
      "Number of reviewers: 5130\n",
      "Number of videos:  1685\n",
      "Number of scores:  5\n"
     ]
    }
   ],
   "source": [
    "n_reviews = len(df1)\n",
    "n_reviewers = df1.reviewerID.unique().size\n",
    "n_asins = df1.asin.unique().size\n",
    "n_overalls = df1.overall.unique().size\n",
    "\n",
    "print(\"Number of reviews: {:d}\".format(n_reviews))\n",
    "print(\"Number of reviewers: {:d}\".format(n_reviewers))\n",
    "print(\"Number of videos:  {:d}\".format(n_asins))\n",
    "print(\"Number of scores:  {:d}\".format(n_overalls))"
   ]
  },
  {
   "cell_type": "code",
   "execution_count": 25,
   "metadata": {
    "collapsed": true
   },
   "outputs": [],
   "source": [
    "df1.to_csv('Amazon.csv')"
   ]
  }
 ],
 "metadata": {
  "kernelspec": {
   "display_name": "Python 3",
   "language": "python",
   "name": "python3"
  },
  "language_info": {
   "codemirror_mode": {
    "name": "ipython",
    "version": 3
   },
   "file_extension": ".py",
   "mimetype": "text/x-python",
   "name": "python",
   "nbconvert_exporter": "python",
   "pygments_lexer": "ipython3",
   "version": "3.6.3"
  }
 },
 "nbformat": 4,
 "nbformat_minor": 2
}
